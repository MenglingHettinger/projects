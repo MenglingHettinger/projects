{
 "cells": [
  {
   "cell_type": "markdown",
   "metadata": {},
   "source": [
    "# Data Preprocessing and Model Building"
   ]
  },
  {
   "cell_type": "markdown",
   "metadata": {},
   "source": [
    "## Data Preprocessing"
   ]
  },
  {
   "cell_type": "markdown",
   "metadata": {},
   "source": [
    "## Helper Functions"
   ]
  },
  {
   "cell_type": "markdown",
   "metadata": {},
   "source": [
    "Function to convert date and time:"
   ]
  },
  {
   "cell_type": "code",
   "execution_count": 7,
   "metadata": {
    "collapsed": true
   },
   "outputs": [],
   "source": [
    "def convert_to_datetime(frame, column, fm=\"%Y-%m-%d\"):    \n",
    "    frame[column] = pd.to_datetime(frame[column],format=fm)\n",
    "    frame[column + '_' + 'year'], frame[column + '_' + 'month'], frame[column + '_' + 'day'] = \\\n",
    "    frame[column].dt.year, frame[column].dt.month, frame[column].dt.day\n",
    "    \n",
    "    return frame"
   ]
  },
  {
   "cell_type": "markdown",
   "metadata": {},
   "source": [
    "Class to impute missing values. If the variable is categorical, use mode; if the variable is numerical, use median."
   ]
  },
  {
   "cell_type": "code",
   "execution_count": 5,
   "metadata": {
    "collapsed": false
   },
   "outputs": [],
   "source": [
    "from sklearn.base import TransformerMixin\n",
    "class DataFrameImputer(TransformerMixin):\n",
    "    def fit(self, X, y=None):\n",
    "        self.fill = pd.Series([\"missing\" if X[c].dtype == np.dtype('O') else X[c].median() for c in X],\n",
    "            index=X.columns)\n",
    "        return self\n",
    "    def transform(self, X, y=None):\n",
    "        return X.fillna(self.fill)"
   ]
  },
  {
   "cell_type": "markdown",
   "metadata": {},
   "source": [
    "Function for getting the sorted_index and sorted_list for a given list:"
   ]
  },
  {
   "cell_type": "code",
   "execution_count": 6,
   "metadata": {
    "collapsed": false
   },
   "outputs": [],
   "source": [
    "def pred_to_rank(data, search_id=None):\n",
    "    my_search = data['srch_id' == search_id]\n",
    "    sorted_index = [i[0] for i in sorted(enumerate(my_search), key=lambda x:x[1])]\n",
    "    sorted_list = sorted(data)\n",
    "    return sorted_index, sorted_list"
   ]
  },
  {
   "cell_type": "markdown",
   "metadata": {},
   "source": [
    "## Model Building"
   ]
  },
  {
   "cell_type": "code",
   "execution_count": 19,
   "metadata": {
    "collapsed": false
   },
   "outputs": [],
   "source": [
    "from time import time\n",
    "\n",
    "import pandas as pd\n",
    "import numpy as np\n",
    "from sklearn import cross_validation\n",
    "from sklearn.metrics import mean_squared_error, mean_absolute_error\n",
    "from sklearn.ensemble import GradientBoostingRegressor\n",
    "from sklearn.linear_model import ElasticNet\n",
    "from sklearn.cross_validation import train_test_split\n",
    "from sklearn.grid_search import GridSearchCV\n",
    "from sklearn.metrics import mean_absolute_error\n",
    "import matplotlib.pyplot as plt"
   ]
  },
  {
   "cell_type": "code",
   "execution_count": 4,
   "metadata": {
    "collapsed": false
   },
   "outputs": [
    {
     "data": {
      "text/html": [
       "<div>\n",
       "<table border=\"1\" class=\"dataframe\">\n",
       "  <thead>\n",
       "    <tr style=\"text-align: right;\">\n",
       "      <th></th>\n",
       "      <th>date_time</th>\n",
       "      <th>visitor_id</th>\n",
       "      <th>visitor_loc_country</th>\n",
       "      <th>visitor_loc_region</th>\n",
       "      <th>visitor_loc_city</th>\n",
       "      <th>visitor_wr_member</th>\n",
       "      <th>posa_continent</th>\n",
       "      <th>posa_country</th>\n",
       "      <th>srch_ci</th>\n",
       "      <th>srch_co</th>\n",
       "      <th>device</th>\n",
       "      <th>currency</th>\n",
       "      <th>click_datetime</th>\n",
       "      <th>booking_datetime</th>\n",
       "      <th>prop_super_region</th>\n",
       "      <th>prop_continent</th>\n",
       "      <th>prop_country</th>\n",
       "      <th>local_date</th>\n",
       "    </tr>\n",
       "  </thead>\n",
       "  <tbody>\n",
       "    <tr>\n",
       "      <th>count</th>\n",
       "      <td>1205488</td>\n",
       "      <td>1205488</td>\n",
       "      <td>1205488</td>\n",
       "      <td>1205253</td>\n",
       "      <td>1205488</td>\n",
       "      <td>570690</td>\n",
       "      <td>506122</td>\n",
       "      <td>1205488</td>\n",
       "      <td>1205488</td>\n",
       "      <td>1205488</td>\n",
       "      <td>1205488</td>\n",
       "      <td>1016115</td>\n",
       "      <td>52362</td>\n",
       "      <td>34077</td>\n",
       "      <td>1205488</td>\n",
       "      <td>1205488</td>\n",
       "      <td>1205488</td>\n",
       "      <td>1205488</td>\n",
       "    </tr>\n",
       "    <tr>\n",
       "      <th>unique</th>\n",
       "      <td>33768</td>\n",
       "      <td>32333</td>\n",
       "      <td>162</td>\n",
       "      <td>630</td>\n",
       "      <td>6111</td>\n",
       "      <td>9</td>\n",
       "      <td>4</td>\n",
       "      <td>69</td>\n",
       "      <td>405</td>\n",
       "      <td>401</td>\n",
       "      <td>3</td>\n",
       "      <td>52</td>\n",
       "      <td>51347</td>\n",
       "      <td>33805</td>\n",
       "      <td>4</td>\n",
       "      <td>4</td>\n",
       "      <td>8</td>\n",
       "      <td>28</td>\n",
       "    </tr>\n",
       "    <tr>\n",
       "      <th>top</th>\n",
       "      <td>2014-09-18 21:18:20</td>\n",
       "      <td>0fac9b35-d7b7-4b71-b275-7da40310ea2e</td>\n",
       "      <td>UNITED STATES OF AMERICA</td>\n",
       "      <td>CA</td>\n",
       "      <td>NEW YORK</td>\n",
       "      <td>Not Signed In|Returning Visitor|Not FC Member</td>\n",
       "      <td>EUROPE</td>\n",
       "      <td>US</td>\n",
       "      <td>2014-09-26</td>\n",
       "      <td>2014-09-28</td>\n",
       "      <td>DESKTOP</td>\n",
       "      <td>USD</td>\n",
       "      <td>2014-09-04 21:40:00</td>\n",
       "      <td>2014-09-08 19:02:00</td>\n",
       "      <td>AMER</td>\n",
       "      <td>NORTHAMERICA</td>\n",
       "      <td>UNITED STATES OF AMERICA</td>\n",
       "      <td>2014-09-03</td>\n",
       "    </tr>\n",
       "    <tr>\n",
       "      <th>freq</th>\n",
       "      <td>144</td>\n",
       "      <td>1214</td>\n",
       "      <td>667876</td>\n",
       "      <td>167829</td>\n",
       "      <td>29858</td>\n",
       "      <td>268283</td>\n",
       "      <td>297315</td>\n",
       "      <td>668191</td>\n",
       "      <td>33352</td>\n",
       "      <td>42112</td>\n",
       "      <td>1029876</td>\n",
       "      <td>596126</td>\n",
       "      <td>3</td>\n",
       "      <td>3</td>\n",
       "      <td>799139</td>\n",
       "      <td>799139</td>\n",
       "      <td>799139</td>\n",
       "      <td>55371</td>\n",
       "    </tr>\n",
       "  </tbody>\n",
       "</table>\n",
       "</div>"
      ],
      "text/plain": [
       "                  date_time                            visitor_id  \\\n",
       "count               1205488                               1205488   \n",
       "unique                33768                                 32333   \n",
       "top     2014-09-18 21:18:20  0fac9b35-d7b7-4b71-b275-7da40310ea2e   \n",
       "freq                    144                                  1214   \n",
       "\n",
       "             visitor_loc_country visitor_loc_region visitor_loc_city  \\\n",
       "count                    1205488            1205253          1205488   \n",
       "unique                       162                630             6111   \n",
       "top     UNITED STATES OF AMERICA                 CA         NEW YORK   \n",
       "freq                      667876             167829            29858   \n",
       "\n",
       "                                    visitor_wr_member posa_continent  \\\n",
       "count                                          570690         506122   \n",
       "unique                                              9              4   \n",
       "top     Not Signed In|Returning Visitor|Not FC Member         EUROPE   \n",
       "freq                                           268283         297315   \n",
       "\n",
       "       posa_country     srch_ci     srch_co   device currency  \\\n",
       "count       1205488     1205488     1205488  1205488  1016115   \n",
       "unique           69         405         401        3       52   \n",
       "top              US  2014-09-26  2014-09-28  DESKTOP      USD   \n",
       "freq         668191       33352       42112  1029876   596126   \n",
       "\n",
       "             click_datetime     booking_datetime prop_super_region  \\\n",
       "count                 52362                34077           1205488   \n",
       "unique                51347                33805                 4   \n",
       "top     2014-09-04 21:40:00  2014-09-08 19:02:00              AMER   \n",
       "freq                      3                    3            799139   \n",
       "\n",
       "       prop_continent              prop_country  local_date  \n",
       "count         1205488                   1205488     1205488  \n",
       "unique              4                         8          28  \n",
       "top      NORTHAMERICA  UNITED STATES OF AMERICA  2014-09-03  \n",
       "freq           799139                    799139       55371  "
      ]
     },
     "execution_count": 4,
     "metadata": {},
     "output_type": "execute_result"
    }
   ],
   "source": [
    "file_path = \"/home/mengling/myproject/hotels/imp_sample.txt\"\n",
    "data = pd.read_table(file_path, sep=\"\\t\")\n",
    "data.describe(include=['O'])"
   ]
  },
  {
   "cell_type": "markdown",
   "metadata": {},
   "source": [
    "## Feature Engineering"
   ]
  },
  {
   "cell_type": "markdown",
   "metadata": {},
   "source": [
    "Convert Datetime to Year, Month and Day:"
   ]
  },
  {
   "cell_type": "code",
   "execution_count": 8,
   "metadata": {
    "collapsed": false
   },
   "outputs": [],
   "source": [
    "data = convert_to_datetime(data, \"srch_ci\",\"%Y-%m-%d\")\n",
    "data = convert_to_datetime(data, \"srch_co\",\"%Y-%m-%d\")\n",
    "data = convert_to_datetime(data, \"local_date\",\"%Y-%m-%d\")\n",
    "data['date_time_hour'] = pd.to_datetime(data['date_time'],format=\"%Y-%m-%d %H:%M:%S\").dt.hour\n",
    "drop_columns = ['click_datetime','booking_datetime','srch_ci','srch_co', 'local_date','date_time']\n",
    "data = data.drop(drop_columns, axis=1)"
   ]
  },
  {
   "cell_type": "markdown",
   "metadata": {},
   "source": [
    "Create counts by city, country and counts by the combination of city, country and search:"
   ]
  },
  {
   "cell_type": "code",
   "execution_count": 9,
   "metadata": {
    "collapsed": false,
    "scrolled": true
   },
   "outputs": [],
   "source": [
    "gb_city = pd.DataFrame({'count_by_city' : data.groupby( [\"visitor_loc_city\"] , as_index=False).size()}).reset_index()\n",
    "gb_city_srch = pd.DataFrame({'count_by_city_srch' : data.groupby( [\"visitor_loc_city\", \"srch_id\"] , \\\n",
    "                                                                 as_index=False).size()}).reset_index()\n",
    "gb_visitor = pd.DataFrame({'count_by_visitor' : data.groupby( [\"visitor_id\"] , as_index=False).size()}).reset_index()\n",
    "\n",
    "gb_reg = pd.DataFrame({'count_by_region' : data.groupby( [\"visitor_loc_region\"] , as_index=False).size()}).reset_index()\n",
    "gb_reg_srch = pd.DataFrame({'count_by_reg_srch' : data.groupby( [\"visitor_loc_region\", \"srch_id\"] , \\\n",
    "                                                               as_index=False).size()}).reset_index()\n",
    "\n",
    "gb_country = pd.DataFrame({'count_by_country' : data.groupby( [\"visitor_loc_country\"] , as_index=False).size()}).reset_index()\n",
    "gb_country_srch = pd.DataFrame({'count_by_country_srch' : data.groupby( [\"visitor_loc_country\", \"srch_id\"] , \\\n",
    "                                                                       as_index=False).size()}).reset_index()\n",
    "\n",
    "gb_posa_ctry = pd.DataFrame({'count_by_posa_ctry' : data.groupby( [\"posa_country\"] , as_index=False).size()}).reset_index()\n",
    "gb_posa_ctry_srch = pd.DataFrame({'count_by_posa_ctry_srch' : data.groupby( [\"posa_country\", \"srch_id\"] , \\\n",
    "                                                                           as_index=False).size()}).reset_index()\n",
    "gb_prop_country = pd.DataFrame({'count_by_prop_country' : data.groupby( [\"prop_country\"] , as_index=False).size()}).reset_index()\n",
    "gb_prop_country_srch = pd.DataFrame({'count_by_prop_country_srch' : data.groupby( [\"prop_country\", \"srch_id\"] , \\\n",
    "                                                                 as_index=False).size()}).reset_index()\n",
    "\n",
    "data = pd.merge(data, gb_city, on=\"visitor_loc_city\", how=\"left\")\n",
    "data = pd.merge(data, gb_city_srch, on=[\"visitor_loc_city\", \"srch_id\"], how=\"left\")\n",
    "data = pd.merge(data, gb_reg, on=\"visitor_loc_region\", how=\"left\")\n",
    "data = pd.merge(data, gb_reg_srch, on=[\"visitor_loc_region\", \"srch_id\"], how=\"left\")\n",
    "data = pd.merge(data, gb_country, on=\"visitor_loc_country\", how=\"left\")\n",
    "data = pd.merge(data, gb_country_srch, on=[\"visitor_loc_country\", \"srch_id\"], how=\"left\")\n",
    "data = pd.merge(data, gb_posa_ctry, on=\"posa_country\", how=\"left\")\n",
    "data = pd.merge(data, gb_posa_ctry_srch, on=[\"posa_country\", \"srch_id\"], how=\"left\")\n",
    "data = pd.merge(data, gb_prop_country, on=\"prop_country\", how=\"left\")\n",
    "data = pd.merge(data, gb_prop_country_srch, on=[\"prop_country\", \"srch_id\"], how=\"left\")\n",
    "data = pd.merge(data, gb_visitor, on=\"visitor_id\", how=\"left\")"
   ]
  },
  {
   "cell_type": "markdown",
   "metadata": {},
   "source": [
    "Create the discount ratio:"
   ]
  },
  {
   "cell_type": "code",
   "execution_count": 10,
   "metadata": {
    "collapsed": true
   },
   "outputs": [],
   "source": [
    "data['discount_ratio'] = (data['price_without_discount_usd'] - \n",
    "                          data['price_with_discount_usd']) / data['price_without_discount_usd']"
   ]
  },
  {
   "cell_type": "code",
   "execution_count": 11,
   "metadata": {
    "collapsed": false
   },
   "outputs": [],
   "source": [
    "drop_columns = ['srch_id','visitor_id', 'visitor_loc_city', 'visitor_loc_region', \\\n",
    "                'visitor_loc_country', 'posa_country','currency', 'prop_country']\n",
    "data = data.drop(drop_columns, axis=1)"
   ]
  },
  {
   "cell_type": "code",
   "execution_count": 47,
   "metadata": {
    "collapsed": false
   },
   "outputs": [
    {
     "data": {
      "text/html": [
       "<div>\n",
       "<table border=\"1\" class=\"dataframe\">\n",
       "  <thead>\n",
       "    <tr style=\"text-align: right;\">\n",
       "      <th></th>\n",
       "      <th>visitor_wr_member</th>\n",
       "      <th>posa_continent</th>\n",
       "      <th>device</th>\n",
       "      <th>prop_super_region</th>\n",
       "      <th>prop_continent</th>\n",
       "    </tr>\n",
       "  </thead>\n",
       "  <tbody>\n",
       "    <tr>\n",
       "      <th>count</th>\n",
       "      <td>570690</td>\n",
       "      <td>506122</td>\n",
       "      <td>1205488</td>\n",
       "      <td>1205488</td>\n",
       "      <td>1205488</td>\n",
       "    </tr>\n",
       "    <tr>\n",
       "      <th>unique</th>\n",
       "      <td>9</td>\n",
       "      <td>4</td>\n",
       "      <td>3</td>\n",
       "      <td>4</td>\n",
       "      <td>4</td>\n",
       "    </tr>\n",
       "    <tr>\n",
       "      <th>top</th>\n",
       "      <td>Not Signed In|Returning Visitor|Not FC Member</td>\n",
       "      <td>EUROPE</td>\n",
       "      <td>DESKTOP</td>\n",
       "      <td>AMER</td>\n",
       "      <td>NORTHAMERICA</td>\n",
       "    </tr>\n",
       "    <tr>\n",
       "      <th>freq</th>\n",
       "      <td>268283</td>\n",
       "      <td>297315</td>\n",
       "      <td>1029876</td>\n",
       "      <td>799139</td>\n",
       "      <td>799139</td>\n",
       "    </tr>\n",
       "  </tbody>\n",
       "</table>\n",
       "</div>"
      ],
      "text/plain": [
       "                                    visitor_wr_member posa_continent   device  \\\n",
       "count                                          570690         506122  1205488   \n",
       "unique                                              9              4        3   \n",
       "top     Not Signed In|Returning Visitor|Not FC Member         EUROPE  DESKTOP   \n",
       "freq                                           268283         297315  1029876   \n",
       "\n",
       "       prop_super_region prop_continent  \n",
       "count            1205488        1205488  \n",
       "unique                 4              4  \n",
       "top                 AMER   NORTHAMERICA  \n",
       "freq              799139         799139  "
      ]
     },
     "execution_count": 47,
     "metadata": {},
     "output_type": "execute_result"
    }
   ],
   "source": [
    "data.describe(include=[\"O\"])"
   ]
  },
  {
   "cell_type": "markdown",
   "metadata": {},
   "source": [
    "Impute missing values:"
   ]
  },
  {
   "cell_type": "code",
   "execution_count": 12,
   "metadata": {
    "collapsed": false
   },
   "outputs": [],
   "source": [
    "imp = DataFrameImputer()\n",
    "y = data.position\n",
    "X = data.drop(\"position\", axis=1)\n",
    "X = imp.fit_transform(X)"
   ]
  },
  {
   "cell_type": "markdown",
   "metadata": {},
   "source": [
    "Counts of missing values in each column:"
   ]
  },
  {
   "cell_type": "code",
   "execution_count": 128,
   "metadata": {
    "collapsed": false
   },
   "outputs": [],
   "source": [
    "#X.isnull().sum()\n",
    "#X.info()\n"
   ]
  },
  {
   "cell_type": "markdown",
   "metadata": {},
   "source": [
    "Vectorize the data:"
   ]
  },
  {
   "cell_type": "code",
   "execution_count": 13,
   "metadata": {
    "collapsed": true
   },
   "outputs": [],
   "source": [
    "X_dummy = pd.get_dummies(X)"
   ]
  },
  {
   "cell_type": "code",
   "execution_count": 50,
   "metadata": {
    "collapsed": false
   },
   "outputs": [
    {
     "data": {
      "text/plain": [
       "Index(['visitor_visit_nbr', 'srch_hcom_destination_id', 'srch_dest_longitude',\n",
       "       'srch_dest_latitude', 'srch_ci_day', 'srch_co_day', 'srch_los',\n",
       "       'srch_bw', 'srch_adults_cnt', 'srch_children_cnt', 'srch_rm_cnt',\n",
       "       'mobile_bool', 'mobile_app', 'travelad_bool', 'dotd_bool',\n",
       "       'price_without_discount_local', 'price_without_discount_usd',\n",
       "       'price_with_discount_local', 'price_with_discount_usd', 'imp_drr',\n",
       "       'click_bool', 'booking_bool', 'prop_key', 'prop_brand_bool',\n",
       "       'prop_starrating', 'prop_market_id', 'prop_submarket_id',\n",
       "       'prop_room_capacity', 'prop_review_score', 'prop_review_count',\n",
       "       'prop_hostel_bool', 'srch_ci_year', 'srch_ci_month', 'srch_co_year',\n",
       "       'srch_co_month', 'local_date_year', 'local_date_month',\n",
       "       'local_date_day', 'date_time_hour', 'count_by_city',\n",
       "       'count_by_city_srch', 'count_by_region', 'count_by_reg_srch',\n",
       "       'count_by_country', 'count_by_country_srch', 'count_by_posa_ctry',\n",
       "       'count_by_posa_ctry_srch', 'count_by_prop_country',\n",
       "       'count_by_prop_country_srch', 'count_by_visitor', 'discount_ratio',\n",
       "       'visitor_wr_member_Not Signed In|New Visitor|Not FC Member',\n",
       "       'visitor_wr_member_Not Signed In|Returning Visitor|Not FC Member',\n",
       "       'visitor_wr_member_Signed In|Not WR Member|Not FC Member',\n",
       "       'visitor_wr_member_Signed In|WR Member|FC Member',\n",
       "       'visitor_wr_member_Signed In|WR Member|Not FC Member',\n",
       "       'visitor_wr_member_Signed in - Persistent|Not WR Member|Not FC Member',\n",
       "       'visitor_wr_member_Signed in - Persistent|Not WR Member|Remembered FC Member',\n",
       "       'visitor_wr_member_Signed in - Persistent|WR Member|Not FC Member',\n",
       "       'visitor_wr_member_Signed in - Persistent|WR Member|Remembered FC Member',\n",
       "       'visitor_wr_member_missing', 'posa_continent_ASIA',\n",
       "       'posa_continent_EUROPE', 'posa_continent_LATAM',\n",
       "       'posa_continent_OCEANIA', 'posa_continent_missing', 'device_DESKTOP',\n",
       "       'device_TABWEB', 'device_WEB', 'prop_super_region_AMER',\n",
       "       'prop_super_region_APAC', 'prop_super_region_EMEA',\n",
       "       'prop_super_region_LATAM', 'prop_continent_ASIA',\n",
       "       'prop_continent_EUROPE', 'prop_continent_LATAM',\n",
       "       'prop_continent_NORTHAMERICA'],\n",
       "      dtype='object')"
      ]
     },
     "execution_count": 50,
     "metadata": {},
     "output_type": "execute_result"
    }
   ],
   "source": [
    "X_dummy.columns"
   ]
  },
  {
   "cell_type": "code",
   "execution_count": 51,
   "metadata": {
    "collapsed": false
   },
   "outputs": [],
   "source": [
    "columns = ['visitor_wr_member_Not Signed In|Returning Visitor|Not FC Member', 'posa_continent_EUROPE',\\\n",
    "          'device_DESKTOP', 'prop_super_region_LATAM', 'prop_continent_EUROPE']\n",
    "X_dummy = X_dummy.drop(columns, axis=1)"
   ]
  },
  {
   "cell_type": "code",
   "execution_count": 52,
   "metadata": {
    "collapsed": false
   },
   "outputs": [
    {
     "data": {
      "text/plain": [
       "(1205488, 72)"
      ]
     },
     "execution_count": 52,
     "metadata": {},
     "output_type": "execute_result"
    }
   ],
   "source": [
    "X_dummy.shape"
   ]
  },
  {
   "cell_type": "code",
   "execution_count": null,
   "metadata": {
    "collapsed": true
   },
   "outputs": [],
   "source": [
    "#from sklearn.feature_extraction import DictVectorizer\n",
    "#vec = DictVectorizer(sparse=True)\n",
    "#XDict = X.to_dict(orient='records')\n",
    "#XArray = vec.fit_transform(XDict).toarray()"
   ]
  },
  {
   "cell_type": "markdown",
   "metadata": {},
   "source": [
    "Since the dataset is large, I can not run models on the whole data with all the parameters on my laptop, I would like to downsample the data, and run it with all the parameters and find the best parameters then increase the data size."
   ]
  },
  {
   "cell_type": "code",
   "execution_count": 15,
   "metadata": {
    "collapsed": false
   },
   "outputs": [],
   "source": [
    "X_s = X_dummy.sample(10000)\n",
    "y_s = y.ix[X_s.index]\n",
    "X_holdout = X_dummy.drop(X_s.index)\n",
    "y_holdout = y.drop(X_s.index)"
   ]
  },
  {
   "cell_type": "markdown",
   "metadata": {},
   "source": [
    "### Split the data:"
   ]
  },
  {
   "cell_type": "code",
   "execution_count": 16,
   "metadata": {
    "collapsed": false
   },
   "outputs": [],
   "source": [
    "X_train, X_test, y_train, y_test = train_test_split(\n",
    "    X_s, y_s, test_size=0.3)"
   ]
  },
  {
   "cell_type": "markdown",
   "metadata": {},
   "source": [
    "### Benchmark: MAE for the position"
   ]
  },
  {
   "cell_type": "markdown",
   "metadata": {},
   "source": [
    "The Absolute Mean Error in the training data (this is equivalent to no model):"
   ]
  },
  {
   "cell_type": "code",
   "execution_count": 69,
   "metadata": {
    "collapsed": false
   },
   "outputs": [
    {
     "name": "stdout",
     "output_type": "stream",
     "text": [
      "24.223\n"
     ]
    },
    {
     "data": {
      "text/plain": [
       "13.504314399999947"
      ]
     },
     "execution_count": 69,
     "metadata": {},
     "output_type": "execute_result"
    }
   ],
   "source": [
    "print(y_s.mean())\n",
    "np.mean(abs(y_s - y_s.mean()))"
   ]
  },
  {
   "cell_type": "markdown",
   "metadata": {},
   "source": [
    "### Elastic-Net Model:"
   ]
  },
  {
   "cell_type": "markdown",
   "metadata": {},
   "source": [
    "Set the parameters by cross-validation"
   ]
  },
  {
   "cell_type": "code",
   "execution_count": 72,
   "metadata": {
    "collapsed": false
   },
   "outputs": [],
   "source": [
    "tuned_parameters = {'l1_ratio': [0.5,0.8,1], 'alpha': [0.1, 0.01,0.001, 0.0001], \\\n",
    "                    'max_iter': [2000], \"normalize\":[True]}"
   ]
  },
  {
   "cell_type": "code",
   "execution_count": 73,
   "metadata": {
    "collapsed": false
   },
   "outputs": [
    {
     "name": "stderr",
     "output_type": "stream",
     "text": [
      "/home/mengling/anaconda3/envs/hotels/lib/python3.5/site-packages/sklearn/linear_model/coordinate_descent.py:466: ConvergenceWarning: Objective did not converge. You might want to increase the number of iterations\n",
      "  ConvergenceWarning)\n"
     ]
    }
   ],
   "source": [
    "en = ElasticNet()\n",
    "clf = GridSearchCV(estimator=en, param_grid=tuned_parameters, cv=3, scoring='mean_absolute_error',verbose=0)\n",
    "clf_fit = clf.fit(X_train, y_train)\n"
   ]
  },
  {
   "cell_type": "markdown",
   "metadata": {},
   "source": [
    "Evaluate the performance:"
   ]
  },
  {
   "cell_type": "code",
   "execution_count": 74,
   "metadata": {
    "collapsed": false
   },
   "outputs": [
    {
     "name": "stdout",
     "output_type": "stream",
     "text": [
      "Best parameters set found on development set:\n",
      "\n",
      "{'alpha': 0.0001, 'max_iter': 2000, 'normalize': True, 'l1_ratio': 1}\n",
      "\n",
      "Grid scores on development set:\n",
      "\n",
      "-13.440 (+/-0.247) for {'alpha': 0.1, 'max_iter': 2000, 'normalize': True, 'l1_ratio': 0.5}\n",
      "-13.450 (+/-0.248) for {'alpha': 0.1, 'max_iter': 2000, 'normalize': True, 'l1_ratio': 0.8}\n",
      "-13.456 (+/-0.247) for {'alpha': 0.1, 'max_iter': 2000, 'normalize': True, 'l1_ratio': 1}\n",
      "-13.086 (+/-0.231) for {'alpha': 0.01, 'max_iter': 2000, 'normalize': True, 'l1_ratio': 0.5}\n",
      "-12.774 (+/-0.219) for {'alpha': 0.01, 'max_iter': 2000, 'normalize': True, 'l1_ratio': 0.8}\n",
      "-11.571 (+/-0.156) for {'alpha': 0.01, 'max_iter': 2000, 'normalize': True, 'l1_ratio': 1}\n",
      "-11.931 (+/-0.170) for {'alpha': 0.001, 'max_iter': 2000, 'normalize': True, 'l1_ratio': 0.5}\n",
      "-11.609 (+/-0.135) for {'alpha': 0.001, 'max_iter': 2000, 'normalize': True, 'l1_ratio': 0.8}\n",
      "-11.378 (+/-0.118) for {'alpha': 0.001, 'max_iter': 2000, 'normalize': True, 'l1_ratio': 1}\n",
      "-11.423 (+/-0.122) for {'alpha': 0.0001, 'max_iter': 2000, 'normalize': True, 'l1_ratio': 0.5}\n",
      "-11.396 (+/-0.119) for {'alpha': 0.0001, 'max_iter': 2000, 'normalize': True, 'l1_ratio': 0.8}\n",
      "-11.352 (+/-0.132) for {'alpha': 0.0001, 'max_iter': 2000, 'normalize': True, 'l1_ratio': 1}\n"
     ]
    }
   ],
   "source": [
    "print(\"Best parameters set found on development set:\")\n",
    "print()\n",
    "print(clf.best_params_)\n",
    "print()\n",
    "print(\"Grid scores on development set:\")\n",
    "print()\n",
    "for params, mean_score, scores in clf.grid_scores_:\n",
    "    print(\"%0.3f (+/-%0.03f) for %r\"\n",
    "          % (mean_score, scores.std() * 2, params))"
   ]
  },
  {
   "cell_type": "markdown",
   "metadata": {},
   "source": [
    "On the test data:"
   ]
  },
  {
   "cell_type": "code",
   "execution_count": 75,
   "metadata": {
    "collapsed": false
   },
   "outputs": [
    {
     "name": "stdout",
     "output_type": "stream",
     "text": [
      "11.6330616957\n"
     ]
    }
   ],
   "source": [
    "y_true, y_pred = y_test, clf.predict(X_test)\n",
    "print(mean_absolute_error(y_true, y_pred))\n"
   ]
  },
  {
   "cell_type": "markdown",
   "metadata": {},
   "source": [
    "Retrain the best model with all the data and get the feature Coefficients:"
   ]
  },
  {
   "cell_type": "code",
   "execution_count": 76,
   "metadata": {
    "collapsed": false
   },
   "outputs": [
    {
     "data": {
      "text/plain": [
       "<matplotlib.text.Text at 0x7fdcba7a7e80>"
      ]
     },
     "execution_count": 76,
     "metadata": {},
     "output_type": "execute_result"
    },
    {
     "data": {
      "image/png": "[encoded data removed]",
      "text/plain": [
       "<matplotlib.figure.Figure at 0x7fdcbb91fe10>"
      ]
     },
     "metadata": {},
     "output_type": "display_data"
    }
   ],
   "source": [
    "%matplotlib inline\n",
    "en = ElasticNet(l1_ratio=1, alpha=0.0005, normalize=True, max_iter=4000)\n",
    "clf = en.fit(X_s, y_s)\n",
    "import matplotlib.pyplot as plt\n",
    "feature_names = list(X_s.columns)\n",
    "ndisplay = 20\n",
    "feature_tup = zip(feature_names, en.coef_)\n",
    "feature_tup1 = sorted(feature_tup, key=lambda x: x[1])\n",
    "feature_tup = feature_tup1[-ndisplay:]\n",
    "names, importance = zip(*feature_tup)\n",
    "\n",
    "pos = np.arange(len(names)) + .5\n",
    "plt.figure(figsize=(12, ndisplay/3.))\n",
    "plt.barh(pos, importance, align='center')\n",
    "plt.yticks(pos, names)\n",
    "plt.xlabel('Coef')\n",
    "plt.title('Variable Coeff')"
   ]
  },
  {
   "cell_type": "markdown",
   "metadata": {},
   "source": [
    "### Gradient Boosting Machine:"
   ]
  },
  {
   "cell_type": "code",
   "execution_count": 77,
   "metadata": {
    "collapsed": true
   },
   "outputs": [],
   "source": [
    "tuned_parameters = {'loss':['lad'], 'learning_rate':[0.005,0.001], \\\n",
    "                    'n_estimators':[300], 'subsample':[1.0], 'max_depth':[3,5,7],'min_samples_split':[10,20]}\n"
   ]
  },
  {
   "cell_type": "code",
   "execution_count": 89,
   "metadata": {
    "collapsed": false
   },
   "outputs": [],
   "source": [
    "gbr = GradientBoostingRegressor()\n",
    "clf = GridSearchCV(estimator=gbr, param_grid=tuned_parameters, cv=3, scoring='mean_absolute_error',verbose=0)\n",
    "clf_fit = clf.fit(X_train, y_train)"
   ]
  },
  {
   "cell_type": "code",
   "execution_count": 90,
   "metadata": {
    "collapsed": false
   },
   "outputs": [
    {
     "name": "stdout",
     "output_type": "stream",
     "text": [
      "Best parameters set found on development set:\n",
      "\n",
      "{'max_depth': 7, 'learning_rate': 0.005, 'min_samples_split': 10, 'subsample': 1.0, 'n_estimators': 300, 'loss': 'lad'}\n",
      "\n",
      "Grid scores on development set:\n",
      "\n",
      "-11.555 (+/-0.238) for {'max_depth': 3, 'learning_rate': 0.005, 'min_samples_split': 10, 'subsample': 1.0, 'n_estimators': 300, 'loss': 'lad'}\n",
      "-11.550 (+/-0.245) for {'max_depth': 3, 'learning_rate': 0.005, 'min_samples_split': 20, 'subsample': 1.0, 'n_estimators': 300, 'loss': 'lad'}\n",
      "-11.126 (+/-0.237) for {'max_depth': 5, 'learning_rate': 0.005, 'min_samples_split': 10, 'subsample': 1.0, 'n_estimators': 300, 'loss': 'lad'}\n",
      "-11.112 (+/-0.246) for {'max_depth': 5, 'learning_rate': 0.005, 'min_samples_split': 20, 'subsample': 1.0, 'n_estimators': 300, 'loss': 'lad'}\n",
      "-10.756 (+/-0.237) for {'max_depth': 7, 'learning_rate': 0.005, 'min_samples_split': 10, 'subsample': 1.0, 'n_estimators': 300, 'loss': 'lad'}\n",
      "-10.758 (+/-0.259) for {'max_depth': 7, 'learning_rate': 0.005, 'min_samples_split': 20, 'subsample': 1.0, 'n_estimators': 300, 'loss': 'lad'}\n",
      "-12.791 (+/-0.279) for {'max_depth': 3, 'learning_rate': 0.001, 'min_samples_split': 10, 'subsample': 1.0, 'n_estimators': 300, 'loss': 'lad'}\n",
      "-12.791 (+/-0.279) for {'max_depth': 3, 'learning_rate': 0.001, 'min_samples_split': 20, 'subsample': 1.0, 'n_estimators': 300, 'loss': 'lad'}\n",
      "-12.627 (+/-0.285) for {'max_depth': 5, 'learning_rate': 0.001, 'min_samples_split': 10, 'subsample': 1.0, 'n_estimators': 300, 'loss': 'lad'}\n",
      "-12.629 (+/-0.286) for {'max_depth': 5, 'learning_rate': 0.001, 'min_samples_split': 20, 'subsample': 1.0, 'n_estimators': 300, 'loss': 'lad'}\n",
      "-12.488 (+/-0.245) for {'max_depth': 7, 'learning_rate': 0.001, 'min_samples_split': 10, 'subsample': 1.0, 'n_estimators': 300, 'loss': 'lad'}\n",
      "-12.488 (+/-0.238) for {'max_depth': 7, 'learning_rate': 0.001, 'min_samples_split': 20, 'subsample': 1.0, 'n_estimators': 300, 'loss': 'lad'}\n"
     ]
    }
   ],
   "source": [
    "print(\"Best parameters set found on development set:\")\n",
    "print()\n",
    "print(clf.best_params_)\n",
    "print()\n",
    "print(\"Grid scores on development set:\")\n",
    "print()\n",
    "for params, mean_score, scores in clf.grid_scores_:\n",
    "    print(\"%0.3f (+/-%0.03f) for %r\"\n",
    "          % (mean_score, scores.std() * 2, params))"
   ]
  },
  {
   "cell_type": "code",
   "execution_count": 31,
   "metadata": {
    "collapsed": false
   },
   "outputs": [
    {
     "name": "stdout",
     "output_type": "stream",
     "text": [
      "11.0666027811\n"
     ]
    }
   ],
   "source": [
    "y_true, y_pred = y_test, clf.predict(X_test)\n",
    "print(mean_absolute_error(y_true, y_pred))"
   ]
  },
  {
   "cell_type": "markdown",
   "metadata": {},
   "source": [
    "Retrain the model with all the data and vary n_estimators."
   ]
  },
  {
   "cell_type": "code",
   "execution_count": 23,
   "metadata": {
    "collapsed": false
   },
   "outputs": [
    {
     "name": "stdout",
     "output_type": "stream",
     "text": [
      "8.87507440524\n"
     ]
    },
    {
     "data": {
      "text/plain": [
       "<matplotlib.text.Text at 0x7f6e41471c50>"
      ]
     },
     "execution_count": 23,
     "metadata": {},
     "output_type": "execute_result"
    },
    {
     "data": {
      "image/png": "[encoded data removed]",
      "text/plain": [
       "<matplotlib.figure.Figure at 0x7f6e40971f28>"
      ]
     },
     "metadata": {},
     "output_type": "display_data"
    }
   ],
   "source": [
    "%matplotlib inline\n",
    "import matplotlib.pyplot as plt\n",
    "params = {'max_depth': 7, 'learning_rate': 0.005, 'min_samples_split': 10, \\\n",
    "          'subsample': 1.0, 'n_estimators': 800, 'loss': 'lad'}\n",
    "clf = GradientBoostingRegressor(**params)\n",
    "\n",
    "clf.fit(X_s, y_s)\n",
    "mae = mean_absolute_error(y_test, clf.predict(X_test))\n",
    "\n",
    "print(mae)\n",
    "\n",
    "test_score = np.zeros((params['n_estimators'],), dtype=np.float64)\n",
    "\n",
    "for i, y_pred in enumerate(clf.staged_predict(X_test)):\n",
    "    test_score[i] = clf.loss_(y_test, y_pred)\n",
    "\n",
    "plt.subplot(1, 2, 1)\n",
    "plt.title('MAE')\n",
    "plt.plot(np.arange(params['n_estimators']) + 1, clf.train_score_, 'b-',\n",
    "         label='Training Set Deviance')\n",
    "plt.plot(np.arange(params['n_estimators']) + 1, test_score, 'r-',\n",
    "         label='Test Set MAE')\n",
    "plt.legend(loc='upper right')\n",
    "plt.xlabel('Boosting Iterations')\n",
    "plt.ylabel('MAE')\n",
    "\n"
   ]
  },
  {
   "cell_type": "markdown",
   "metadata": {},
   "source": [
    " Plot the variable importance:"
   ]
  },
  {
   "cell_type": "code",
   "execution_count": 35,
   "metadata": {
    "collapsed": false
   },
   "outputs": [
    {
     "data": {
      "image/png": "[encoded data removed]",
      "text/plain": [
       "<matplotlib.figure.Figure at 0x7fdcbb3870b8>"
      ]
     },
     "metadata": {},
     "output_type": "display_data"
    }
   ],
   "source": [
    "# Plot feature importance\n",
    "feature_importance = clf.feature_importances_[:20]\n",
    "# make importances relative to max importance\n",
    "feature_importance = 100.0 * (feature_importance / feature_importance.max())\n",
    "sorted_idx = np.argsort(feature_importance)\n",
    "pos = np.arange(sorted_idx.shape[0]) + .5\n",
    "plt.figure(figsize=[12,8]) \n",
    "plt.subplot(1, 2, 2)\n",
    "plt.barh(pos, feature_importance[sorted_idx], align='center')\n",
    "plt.yticks(pos, X_train.columns[sorted_idx])\n",
    "plt.xlabel('Relative Importance')\n",
    "plt.title('Variable Importance')\n",
    "plt.show()"
   ]
  }
 ],
 "metadata": {
  "kernelspec": {
   "display_name": "Python 3",
   "language": "python",
   "name": "python3"
  },
  "language_info": {
   "codemirror_mode": {
    "name": "ipython",
    "version": 3
   },
   "file_extension": ".py",
   "mimetype": "text/x-python",
   "name": "python",
   "nbconvert_exporter": "python",
   "pygments_lexer": "ipython3",
   "version": "3.5.1"
  }
 },
 "nbformat": 4,
 "nbformat_minor": 0
}
